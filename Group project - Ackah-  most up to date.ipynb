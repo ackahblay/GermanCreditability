{
 "cells": [
  {
   "cell_type": "code",
   "execution_count": 2,
   "metadata": {},
   "outputs": [],
   "source": [
    "#Importing libraries necessary for analysis\n",
    "import pandas as pd\n",
    "import numpy as np\n",
    "import seaborn as sns\n",
    "from matplotlib import pyplot\n",
    "from pandas_ml import ConfusionMatrix\n",
    "from sklearn.model_selection import train_test_split\n",
    "from sklearn.metrics import accuracy_score, precision_score, roc_curve, auc\n",
    "from sklearn.naive_bayes import GaussianNB\n",
    "from sklearn.tree import DecisionTreeClassifier\n",
    "from sklearn.linear_model import SGDClassifier\n",
    "from sklearn.ensemble import RandomForestClassifier\n",
    "import statsmodels.api as sm\n",
    "import seaborn as sns\n",
    "%matplotlib inline\n",
    "from sklearn.model_selection import train_test_split\n",
    "from sklearn.linear_model import LinearRegression"
   ]
  },
  {
   "cell_type": "code",
   "execution_count": 3,
   "metadata": {},
   "outputs": [],
   "source": [
    "mydata = pd.read_csv('/Users/ackahblay/Documents/phyton_Documents/Group project/german_credit_card.csv')"
   ]
  },
  {
   "cell_type": "code",
   "execution_count": 4,
   "metadata": {},
   "outputs": [],
   "source": [
    "mydata.columns = mydata.columns.str.strip().str.lower().str.replace(' ', '_').str.replace('(', '').str.replace(')', '')"
   ]
  },
  {
   "cell_type": "code",
   "execution_count": 5,
   "metadata": {},
   "outputs": [
    {
     "data": {
      "text/html": [
       "<div>\n",
       "<style scoped>\n",
       "    .dataframe tbody tr th:only-of-type {\n",
       "        vertical-align: middle;\n",
       "    }\n",
       "\n",
       "    .dataframe tbody tr th {\n",
       "        vertical-align: top;\n",
       "    }\n",
       "\n",
       "    .dataframe thead th {\n",
       "        text-align: right;\n",
       "    }\n",
       "</style>\n",
       "<table border=\"1\" class=\"dataframe\">\n",
       "  <thead>\n",
       "    <tr style=\"text-align: right;\">\n",
       "      <th></th>\n",
       "      <th>account_balance</th>\n",
       "      <th>duration_of_credit_month</th>\n",
       "      <th>payment_status_of_previous_credit</th>\n",
       "      <th>purpose</th>\n",
       "      <th>credit_amount</th>\n",
       "      <th>value_savings/stocks</th>\n",
       "      <th>length_of_current_employment</th>\n",
       "      <th>instalment_per_cent</th>\n",
       "      <th>sex_&amp;_marital_status</th>\n",
       "      <th>guarantors</th>\n",
       "      <th>...</th>\n",
       "      <th>most_valuable_available_asset</th>\n",
       "      <th>age_years</th>\n",
       "      <th>concurrent_credits</th>\n",
       "      <th>type_of_apartment</th>\n",
       "      <th>no_of_credits_at_this_bank</th>\n",
       "      <th>occupation</th>\n",
       "      <th>no_of_dependents</th>\n",
       "      <th>telephone</th>\n",
       "      <th>foreign_worker</th>\n",
       "      <th>creditability</th>\n",
       "    </tr>\n",
       "  </thead>\n",
       "  <tbody>\n",
       "    <tr>\n",
       "      <th>0</th>\n",
       "      <td>1</td>\n",
       "      <td>18</td>\n",
       "      <td>4</td>\n",
       "      <td>2</td>\n",
       "      <td>1049</td>\n",
       "      <td>1</td>\n",
       "      <td>2</td>\n",
       "      <td>4</td>\n",
       "      <td>2</td>\n",
       "      <td>1</td>\n",
       "      <td>...</td>\n",
       "      <td>2</td>\n",
       "      <td>21</td>\n",
       "      <td>3</td>\n",
       "      <td>1</td>\n",
       "      <td>1</td>\n",
       "      <td>3</td>\n",
       "      <td>1</td>\n",
       "      <td>1</td>\n",
       "      <td>1</td>\n",
       "      <td>1</td>\n",
       "    </tr>\n",
       "    <tr>\n",
       "      <th>1</th>\n",
       "      <td>1</td>\n",
       "      <td>9</td>\n",
       "      <td>4</td>\n",
       "      <td>0</td>\n",
       "      <td>2799</td>\n",
       "      <td>1</td>\n",
       "      <td>3</td>\n",
       "      <td>2</td>\n",
       "      <td>3</td>\n",
       "      <td>1</td>\n",
       "      <td>...</td>\n",
       "      <td>1</td>\n",
       "      <td>36</td>\n",
       "      <td>3</td>\n",
       "      <td>1</td>\n",
       "      <td>2</td>\n",
       "      <td>3</td>\n",
       "      <td>2</td>\n",
       "      <td>1</td>\n",
       "      <td>1</td>\n",
       "      <td>1</td>\n",
       "    </tr>\n",
       "    <tr>\n",
       "      <th>2</th>\n",
       "      <td>2</td>\n",
       "      <td>12</td>\n",
       "      <td>2</td>\n",
       "      <td>9</td>\n",
       "      <td>841</td>\n",
       "      <td>2</td>\n",
       "      <td>4</td>\n",
       "      <td>2</td>\n",
       "      <td>2</td>\n",
       "      <td>1</td>\n",
       "      <td>...</td>\n",
       "      <td>1</td>\n",
       "      <td>23</td>\n",
       "      <td>3</td>\n",
       "      <td>1</td>\n",
       "      <td>1</td>\n",
       "      <td>2</td>\n",
       "      <td>1</td>\n",
       "      <td>1</td>\n",
       "      <td>1</td>\n",
       "      <td>1</td>\n",
       "    </tr>\n",
       "    <tr>\n",
       "      <th>3</th>\n",
       "      <td>1</td>\n",
       "      <td>12</td>\n",
       "      <td>4</td>\n",
       "      <td>0</td>\n",
       "      <td>2122</td>\n",
       "      <td>1</td>\n",
       "      <td>3</td>\n",
       "      <td>3</td>\n",
       "      <td>3</td>\n",
       "      <td>1</td>\n",
       "      <td>...</td>\n",
       "      <td>1</td>\n",
       "      <td>39</td>\n",
       "      <td>3</td>\n",
       "      <td>1</td>\n",
       "      <td>2</td>\n",
       "      <td>2</td>\n",
       "      <td>2</td>\n",
       "      <td>1</td>\n",
       "      <td>2</td>\n",
       "      <td>1</td>\n",
       "    </tr>\n",
       "    <tr>\n",
       "      <th>4</th>\n",
       "      <td>1</td>\n",
       "      <td>12</td>\n",
       "      <td>4</td>\n",
       "      <td>0</td>\n",
       "      <td>2171</td>\n",
       "      <td>1</td>\n",
       "      <td>3</td>\n",
       "      <td>4</td>\n",
       "      <td>3</td>\n",
       "      <td>1</td>\n",
       "      <td>...</td>\n",
       "      <td>2</td>\n",
       "      <td>38</td>\n",
       "      <td>1</td>\n",
       "      <td>2</td>\n",
       "      <td>2</td>\n",
       "      <td>2</td>\n",
       "      <td>1</td>\n",
       "      <td>1</td>\n",
       "      <td>2</td>\n",
       "      <td>1</td>\n",
       "    </tr>\n",
       "  </tbody>\n",
       "</table>\n",
       "<p>5 rows × 21 columns</p>\n",
       "</div>"
      ],
      "text/plain": [
       "   account_balance  duration_of_credit_month  \\\n",
       "0                1                        18   \n",
       "1                1                         9   \n",
       "2                2                        12   \n",
       "3                1                        12   \n",
       "4                1                        12   \n",
       "\n",
       "   payment_status_of_previous_credit  purpose  credit_amount  \\\n",
       "0                                  4        2           1049   \n",
       "1                                  4        0           2799   \n",
       "2                                  2        9            841   \n",
       "3                                  4        0           2122   \n",
       "4                                  4        0           2171   \n",
       "\n",
       "   value_savings/stocks  length_of_current_employment  instalment_per_cent  \\\n",
       "0                     1                             2                    4   \n",
       "1                     1                             3                    2   \n",
       "2                     2                             4                    2   \n",
       "3                     1                             3                    3   \n",
       "4                     1                             3                    4   \n",
       "\n",
       "   sex_&_marital_status  guarantors      ...        \\\n",
       "0                     2           1      ...         \n",
       "1                     3           1      ...         \n",
       "2                     2           1      ...         \n",
       "3                     3           1      ...         \n",
       "4                     3           1      ...         \n",
       "\n",
       "   most_valuable_available_asset  age_years  concurrent_credits  \\\n",
       "0                              2         21                   3   \n",
       "1                              1         36                   3   \n",
       "2                              1         23                   3   \n",
       "3                              1         39                   3   \n",
       "4                              2         38                   1   \n",
       "\n",
       "   type_of_apartment  no_of_credits_at_this_bank  occupation  \\\n",
       "0                  1                           1           3   \n",
       "1                  1                           2           3   \n",
       "2                  1                           1           2   \n",
       "3                  1                           2           2   \n",
       "4                  2                           2           2   \n",
       "\n",
       "   no_of_dependents  telephone  foreign_worker  creditability  \n",
       "0                 1          1               1              1  \n",
       "1                 2          1               1              1  \n",
       "2                 1          1               1              1  \n",
       "3                 2          1               2              1  \n",
       "4                 1          1               2              1  \n",
       "\n",
       "[5 rows x 21 columns]"
      ]
     },
     "execution_count": 5,
     "metadata": {},
     "output_type": "execute_result"
    }
   ],
   "source": [
    "mydata = mydata.reindex(['account_balance', 'duration_of_credit_month',\n",
    "                         'payment_status_of_previous_credit', 'purpose','credit_amount',\n",
    "                         'value_savings/stocks', 'length_of_current_employment', \n",
    "                         'instalment_per_cent', 'sex_&_marital_status','guarantors',\n",
    "                         'duration_in_current_address', 'most_valuable_available_asset',\n",
    "                         'age_years','concurrent_credits','type_of_apartment',\n",
    "                         'no_of_credits_at_this_bank', 'occupation','no_of_dependents',\n",
    "                         'telephone','foreign_worker', 'creditability'], axis = 1)\n",
    "mydata.head(5)"
   ]
  },
  {
   "cell_type": "code",
   "execution_count": 6,
   "metadata": {},
   "outputs": [
    {
     "name": "stdout",
     "output_type": "stream",
     "text": [
      "[0.12356562 0.08202279 0.0595947  0.05095192 0.07892625 0.05712065\n",
      " 0.05902086 0.05084984 0.04801416 0.02663957 0.05516871 0.05077048\n",
      " 0.06850483 0.02805054 0.03541702 0.02640798 0.04165679 0.02171385\n",
      " 0.02998904 0.0056144 ]\n"
     ]
    },
    {
     "name": "stderr",
     "output_type": "stream",
     "text": [
      "/anaconda3/lib/python3.6/site-packages/sklearn/ensemble/forest.py:248: FutureWarning: The default value of n_estimators will change from 10 in version 0.20 to 100 in 0.22.\n",
      "  \"10 in version 0.20 to 100 in 0.22.\", FutureWarning)\n"
     ]
    }
   ],
   "source": [
    "#information gain to identify and dropping 3 lowest attribute based on Extra Trees Classifier\n",
    "from sklearn.ensemble import ExtraTreesClassifier\n",
    "np.random.seed(0)\n",
    "array = mydata.values\n",
    "X1 = array[:,0:20]\n",
    "Y1 = array[:,20]\n",
    "\n",
    "model = ExtraTreesClassifier()\n",
    "model.fit(X1,Y1)\n",
    "print(model.feature_importances_)"
   ]
  },
  {
   "cell_type": "code",
   "execution_count": 7,
   "metadata": {},
   "outputs": [
    {
     "name": "stdout",
     "output_type": "stream",
     "text": [
      "<class 'pandas.core.frame.DataFrame'>\n",
      "RangeIndex: 1000 entries, 0 to 999\n",
      "Data columns (total 21 columns):\n",
      "account_balance                      1000 non-null int64\n",
      "duration_of_credit_month             1000 non-null int64\n",
      "payment_status_of_previous_credit    1000 non-null int64\n",
      "purpose                              1000 non-null int64\n",
      "credit_amount                        1000 non-null int64\n",
      "value_savings/stocks                 1000 non-null int64\n",
      "length_of_current_employment         1000 non-null int64\n",
      "instalment_per_cent                  1000 non-null int64\n",
      "sex_&_marital_status                 1000 non-null int64\n",
      "guarantors                           1000 non-null int64\n",
      "duration_in_current_address          1000 non-null int64\n",
      "most_valuable_available_asset        1000 non-null int64\n",
      "age_years                            1000 non-null int64\n",
      "concurrent_credits                   1000 non-null int64\n",
      "type_of_apartment                    1000 non-null int64\n",
      "no_of_credits_at_this_bank           1000 non-null int64\n",
      "occupation                           1000 non-null int64\n",
      "no_of_dependents                     1000 non-null int64\n",
      "telephone                            1000 non-null int64\n",
      "foreign_worker                       1000 non-null int64\n",
      "creditability                        1000 non-null int64\n",
      "dtypes: int64(21)\n",
      "memory usage: 164.1 KB\n"
     ]
    }
   ],
   "source": [
    "mydata.info()"
   ]
  },
  {
   "cell_type": "code",
   "execution_count": 8,
   "metadata": {},
   "outputs": [
    {
     "data": {
      "text/html": [
       "<div>\n",
       "<style scoped>\n",
       "    .dataframe tbody tr th:only-of-type {\n",
       "        vertical-align: middle;\n",
       "    }\n",
       "\n",
       "    .dataframe tbody tr th {\n",
       "        vertical-align: top;\n",
       "    }\n",
       "\n",
       "    .dataframe thead th {\n",
       "        text-align: right;\n",
       "    }\n",
       "</style>\n",
       "<table border=\"1\" class=\"dataframe\">\n",
       "  <thead>\n",
       "    <tr style=\"text-align: right;\">\n",
       "      <th></th>\n",
       "      <th>account_balance</th>\n",
       "      <th>duration_of_credit_month</th>\n",
       "      <th>payment_status_of_previous_credit</th>\n",
       "      <th>purpose</th>\n",
       "      <th>credit_amount</th>\n",
       "      <th>value_savings/stocks</th>\n",
       "      <th>length_of_current_employment</th>\n",
       "      <th>instalment_per_cent</th>\n",
       "      <th>sex_&amp;_marital_status</th>\n",
       "      <th>guarantors</th>\n",
       "      <th>...</th>\n",
       "      <th>most_valuable_available_asset</th>\n",
       "      <th>age_years</th>\n",
       "      <th>concurrent_credits</th>\n",
       "      <th>type_of_apartment</th>\n",
       "      <th>no_of_credits_at_this_bank</th>\n",
       "      <th>occupation</th>\n",
       "      <th>no_of_dependents</th>\n",
       "      <th>telephone</th>\n",
       "      <th>foreign_worker</th>\n",
       "      <th>creditability</th>\n",
       "    </tr>\n",
       "  </thead>\n",
       "  <tbody>\n",
       "    <tr>\n",
       "      <th>count</th>\n",
       "      <td>1000.000000</td>\n",
       "      <td>1000.000000</td>\n",
       "      <td>1000.00000</td>\n",
       "      <td>1000.000000</td>\n",
       "      <td>1000.00000</td>\n",
       "      <td>1000.000000</td>\n",
       "      <td>1000.000000</td>\n",
       "      <td>1000.000000</td>\n",
       "      <td>1000.00000</td>\n",
       "      <td>1000.000000</td>\n",
       "      <td>...</td>\n",
       "      <td>1000.000000</td>\n",
       "      <td>1000.00000</td>\n",
       "      <td>1000.000000</td>\n",
       "      <td>1000.000000</td>\n",
       "      <td>1000.000000</td>\n",
       "      <td>1000.000000</td>\n",
       "      <td>1000.000000</td>\n",
       "      <td>1000.000000</td>\n",
       "      <td>1000.000000</td>\n",
       "      <td>1000.000000</td>\n",
       "    </tr>\n",
       "    <tr>\n",
       "      <th>mean</th>\n",
       "      <td>2.577000</td>\n",
       "      <td>20.903000</td>\n",
       "      <td>2.54500</td>\n",
       "      <td>2.828000</td>\n",
       "      <td>3271.24800</td>\n",
       "      <td>2.105000</td>\n",
       "      <td>3.384000</td>\n",
       "      <td>2.973000</td>\n",
       "      <td>2.68200</td>\n",
       "      <td>1.145000</td>\n",
       "      <td>...</td>\n",
       "      <td>2.358000</td>\n",
       "      <td>35.54200</td>\n",
       "      <td>2.675000</td>\n",
       "      <td>1.928000</td>\n",
       "      <td>1.407000</td>\n",
       "      <td>2.904000</td>\n",
       "      <td>1.155000</td>\n",
       "      <td>1.404000</td>\n",
       "      <td>1.037000</td>\n",
       "      <td>0.700000</td>\n",
       "    </tr>\n",
       "    <tr>\n",
       "      <th>std</th>\n",
       "      <td>1.257638</td>\n",
       "      <td>12.058814</td>\n",
       "      <td>1.08312</td>\n",
       "      <td>2.744439</td>\n",
       "      <td>2822.75176</td>\n",
       "      <td>1.580023</td>\n",
       "      <td>1.208306</td>\n",
       "      <td>1.118715</td>\n",
       "      <td>0.70808</td>\n",
       "      <td>0.477706</td>\n",
       "      <td>...</td>\n",
       "      <td>1.050209</td>\n",
       "      <td>11.35267</td>\n",
       "      <td>0.705601</td>\n",
       "      <td>0.530186</td>\n",
       "      <td>0.577654</td>\n",
       "      <td>0.653614</td>\n",
       "      <td>0.362086</td>\n",
       "      <td>0.490943</td>\n",
       "      <td>0.188856</td>\n",
       "      <td>0.458487</td>\n",
       "    </tr>\n",
       "    <tr>\n",
       "      <th>min</th>\n",
       "      <td>1.000000</td>\n",
       "      <td>4.000000</td>\n",
       "      <td>0.00000</td>\n",
       "      <td>0.000000</td>\n",
       "      <td>250.00000</td>\n",
       "      <td>1.000000</td>\n",
       "      <td>1.000000</td>\n",
       "      <td>1.000000</td>\n",
       "      <td>1.00000</td>\n",
       "      <td>1.000000</td>\n",
       "      <td>...</td>\n",
       "      <td>1.000000</td>\n",
       "      <td>19.00000</td>\n",
       "      <td>1.000000</td>\n",
       "      <td>1.000000</td>\n",
       "      <td>1.000000</td>\n",
       "      <td>1.000000</td>\n",
       "      <td>1.000000</td>\n",
       "      <td>1.000000</td>\n",
       "      <td>1.000000</td>\n",
       "      <td>0.000000</td>\n",
       "    </tr>\n",
       "    <tr>\n",
       "      <th>25%</th>\n",
       "      <td>1.000000</td>\n",
       "      <td>12.000000</td>\n",
       "      <td>2.00000</td>\n",
       "      <td>1.000000</td>\n",
       "      <td>1365.50000</td>\n",
       "      <td>1.000000</td>\n",
       "      <td>3.000000</td>\n",
       "      <td>2.000000</td>\n",
       "      <td>2.00000</td>\n",
       "      <td>1.000000</td>\n",
       "      <td>...</td>\n",
       "      <td>1.000000</td>\n",
       "      <td>27.00000</td>\n",
       "      <td>3.000000</td>\n",
       "      <td>2.000000</td>\n",
       "      <td>1.000000</td>\n",
       "      <td>3.000000</td>\n",
       "      <td>1.000000</td>\n",
       "      <td>1.000000</td>\n",
       "      <td>1.000000</td>\n",
       "      <td>0.000000</td>\n",
       "    </tr>\n",
       "    <tr>\n",
       "      <th>50%</th>\n",
       "      <td>2.000000</td>\n",
       "      <td>18.000000</td>\n",
       "      <td>2.00000</td>\n",
       "      <td>2.000000</td>\n",
       "      <td>2319.50000</td>\n",
       "      <td>1.000000</td>\n",
       "      <td>3.000000</td>\n",
       "      <td>3.000000</td>\n",
       "      <td>3.00000</td>\n",
       "      <td>1.000000</td>\n",
       "      <td>...</td>\n",
       "      <td>2.000000</td>\n",
       "      <td>33.00000</td>\n",
       "      <td>3.000000</td>\n",
       "      <td>2.000000</td>\n",
       "      <td>1.000000</td>\n",
       "      <td>3.000000</td>\n",
       "      <td>1.000000</td>\n",
       "      <td>1.000000</td>\n",
       "      <td>1.000000</td>\n",
       "      <td>1.000000</td>\n",
       "    </tr>\n",
       "    <tr>\n",
       "      <th>75%</th>\n",
       "      <td>4.000000</td>\n",
       "      <td>24.000000</td>\n",
       "      <td>4.00000</td>\n",
       "      <td>3.000000</td>\n",
       "      <td>3972.25000</td>\n",
       "      <td>3.000000</td>\n",
       "      <td>5.000000</td>\n",
       "      <td>4.000000</td>\n",
       "      <td>3.00000</td>\n",
       "      <td>1.000000</td>\n",
       "      <td>...</td>\n",
       "      <td>3.000000</td>\n",
       "      <td>42.00000</td>\n",
       "      <td>3.000000</td>\n",
       "      <td>2.000000</td>\n",
       "      <td>2.000000</td>\n",
       "      <td>3.000000</td>\n",
       "      <td>1.000000</td>\n",
       "      <td>2.000000</td>\n",
       "      <td>1.000000</td>\n",
       "      <td>1.000000</td>\n",
       "    </tr>\n",
       "    <tr>\n",
       "      <th>max</th>\n",
       "      <td>4.000000</td>\n",
       "      <td>72.000000</td>\n",
       "      <td>4.00000</td>\n",
       "      <td>10.000000</td>\n",
       "      <td>18424.00000</td>\n",
       "      <td>5.000000</td>\n",
       "      <td>5.000000</td>\n",
       "      <td>4.000000</td>\n",
       "      <td>4.00000</td>\n",
       "      <td>3.000000</td>\n",
       "      <td>...</td>\n",
       "      <td>4.000000</td>\n",
       "      <td>75.00000</td>\n",
       "      <td>3.000000</td>\n",
       "      <td>3.000000</td>\n",
       "      <td>4.000000</td>\n",
       "      <td>4.000000</td>\n",
       "      <td>2.000000</td>\n",
       "      <td>2.000000</td>\n",
       "      <td>2.000000</td>\n",
       "      <td>1.000000</td>\n",
       "    </tr>\n",
       "  </tbody>\n",
       "</table>\n",
       "<p>8 rows × 21 columns</p>\n",
       "</div>"
      ],
      "text/plain": [
       "       account_balance  duration_of_credit_month  \\\n",
       "count      1000.000000               1000.000000   \n",
       "mean          2.577000                 20.903000   \n",
       "std           1.257638                 12.058814   \n",
       "min           1.000000                  4.000000   \n",
       "25%           1.000000                 12.000000   \n",
       "50%           2.000000                 18.000000   \n",
       "75%           4.000000                 24.000000   \n",
       "max           4.000000                 72.000000   \n",
       "\n",
       "       payment_status_of_previous_credit      purpose  credit_amount  \\\n",
       "count                         1000.00000  1000.000000     1000.00000   \n",
       "mean                             2.54500     2.828000     3271.24800   \n",
       "std                              1.08312     2.744439     2822.75176   \n",
       "min                              0.00000     0.000000      250.00000   \n",
       "25%                              2.00000     1.000000     1365.50000   \n",
       "50%                              2.00000     2.000000     2319.50000   \n",
       "75%                              4.00000     3.000000     3972.25000   \n",
       "max                              4.00000    10.000000    18424.00000   \n",
       "\n",
       "       value_savings/stocks  length_of_current_employment  \\\n",
       "count           1000.000000                   1000.000000   \n",
       "mean               2.105000                      3.384000   \n",
       "std                1.580023                      1.208306   \n",
       "min                1.000000                      1.000000   \n",
       "25%                1.000000                      3.000000   \n",
       "50%                1.000000                      3.000000   \n",
       "75%                3.000000                      5.000000   \n",
       "max                5.000000                      5.000000   \n",
       "\n",
       "       instalment_per_cent  sex_&_marital_status   guarantors      ...        \\\n",
       "count          1000.000000            1000.00000  1000.000000      ...         \n",
       "mean              2.973000               2.68200     1.145000      ...         \n",
       "std               1.118715               0.70808     0.477706      ...         \n",
       "min               1.000000               1.00000     1.000000      ...         \n",
       "25%               2.000000               2.00000     1.000000      ...         \n",
       "50%               3.000000               3.00000     1.000000      ...         \n",
       "75%               4.000000               3.00000     1.000000      ...         \n",
       "max               4.000000               4.00000     3.000000      ...         \n",
       "\n",
       "       most_valuable_available_asset   age_years  concurrent_credits  \\\n",
       "count                    1000.000000  1000.00000         1000.000000   \n",
       "mean                        2.358000    35.54200            2.675000   \n",
       "std                         1.050209    11.35267            0.705601   \n",
       "min                         1.000000    19.00000            1.000000   \n",
       "25%                         1.000000    27.00000            3.000000   \n",
       "50%                         2.000000    33.00000            3.000000   \n",
       "75%                         3.000000    42.00000            3.000000   \n",
       "max                         4.000000    75.00000            3.000000   \n",
       "\n",
       "       type_of_apartment  no_of_credits_at_this_bank   occupation  \\\n",
       "count        1000.000000                 1000.000000  1000.000000   \n",
       "mean            1.928000                    1.407000     2.904000   \n",
       "std             0.530186                    0.577654     0.653614   \n",
       "min             1.000000                    1.000000     1.000000   \n",
       "25%             2.000000                    1.000000     3.000000   \n",
       "50%             2.000000                    1.000000     3.000000   \n",
       "75%             2.000000                    2.000000     3.000000   \n",
       "max             3.000000                    4.000000     4.000000   \n",
       "\n",
       "       no_of_dependents    telephone  foreign_worker  creditability  \n",
       "count       1000.000000  1000.000000     1000.000000    1000.000000  \n",
       "mean           1.155000     1.404000        1.037000       0.700000  \n",
       "std            0.362086     0.490943        0.188856       0.458487  \n",
       "min            1.000000     1.000000        1.000000       0.000000  \n",
       "25%            1.000000     1.000000        1.000000       0.000000  \n",
       "50%            1.000000     1.000000        1.000000       1.000000  \n",
       "75%            1.000000     2.000000        1.000000       1.000000  \n",
       "max            2.000000     2.000000        2.000000       1.000000  \n",
       "\n",
       "[8 rows x 21 columns]"
      ]
     },
     "execution_count": 8,
     "metadata": {},
     "output_type": "execute_result"
    }
   ],
   "source": [
    "mydata.describe()"
   ]
  },
  {
   "cell_type": "code",
   "execution_count": 9,
   "metadata": {},
   "outputs": [
    {
     "data": {
      "image/png": "[encoded data removed]",
      "text/plain": [
       "<Figure size 1440x1440 with 25 Axes>"
      ]
     },
     "metadata": {
      "needs_background": "light"
     },
     "output_type": "display_data"
    }
   ],
   "source": [
    "mydata.hist(figsize = (20,20))\n",
    "pyplot.show()"
   ]
  },
  {
   "cell_type": "code",
   "execution_count": 10,
   "metadata": {},
   "outputs": [
    {
     "data": {
      "image/png": "[encoded data removed]",
      "text/plain": [
       "<Figure size 2160x1440 with 1 Axes>"
      ]
     },
     "metadata": {
      "needs_background": "light"
     },
     "output_type": "display_data"
    }
   ],
   "source": [
    "mydata.boxplot(figsize = (30,20))\n",
    "pyplot.show()"
   ]
  },
  {
   "cell_type": "code",
   "execution_count": 11,
   "metadata": {},
   "outputs": [
    {
     "name": "stderr",
     "output_type": "stream",
     "text": [
      "/anaconda3/lib/python3.6/site-packages/scipy/stats/stats.py:1713: FutureWarning: Using a non-tuple sequence for multidimensional indexing is deprecated; use `arr[tuple(seq)]` instead of `arr[seq]`. In the future this will be interpreted as an array index, `arr[np.array(seq)]`, which will result either in an error or a different result.\n",
      "  return np.add.reduce(sorted[indexer] * weights, axis=axis) / sumval\n"
     ]
    },
    {
     "data": {
      "image/png": "[encoded data removed]",
      "text/plain": [
       "<Figure size 432x288 with 1 Axes>"
      ]
     },
     "metadata": {
      "needs_background": "light"
     },
     "output_type": "display_data"
    }
   ],
   "source": [
    "sns.distplot(mydata['age_years'])\n",
    "pyplot.show()"
   ]
  },
  {
   "cell_type": "code",
   "execution_count": 12,
   "metadata": {},
   "outputs": [
    {
     "data": {
      "image/png": "[encoded data removed]",
      "text/plain": [
       "<Figure size 432x288 with 1 Axes>"
      ]
     },
     "metadata": {
      "needs_background": "light"
     },
     "output_type": "display_data"
    }
   ],
   "source": [
    "sns.boxplot(mydata['age_years'])\n",
    "pyplot.show()"
   ]
  },
  {
   "cell_type": "code",
   "execution_count": 13,
   "metadata": {},
   "outputs": [
    {
     "data": {
      "text/plain": [
       "33.0"
      ]
     },
     "execution_count": 13,
     "metadata": {},
     "output_type": "execute_result"
    }
   ],
   "source": [
    "#because data is skewed -- best measure for central \n",
    "mydata.age_years.median()"
   ]
  },
  {
   "cell_type": "code",
   "execution_count": 14,
   "metadata": {},
   "outputs": [],
   "source": [
    "mydata.loc[(mydata.age_years > 68), 'age_years'] = 33.0\n"
   ]
  },
  {
   "cell_type": "code",
   "execution_count": 15,
   "metadata": {},
   "outputs": [
    {
     "data": {
      "image/png": "[encoded data removed]",
      "text/plain": [
       "<Figure size 432x288 with 1 Axes>"
      ]
     },
     "metadata": {
      "needs_background": "light"
     },
     "output_type": "display_data"
    }
   ],
   "source": [
    "sns.boxplot(mydata['age_years'])\n",
    "pyplot.show()"
   ]
  },
  {
   "cell_type": "code",
   "execution_count": 16,
   "metadata": {},
   "outputs": [
    {
     "name": "stderr",
     "output_type": "stream",
     "text": [
      "/anaconda3/lib/python3.6/site-packages/scipy/stats/stats.py:1713: FutureWarning: Using a non-tuple sequence for multidimensional indexing is deprecated; use `arr[tuple(seq)]` instead of `arr[seq]`. In the future this will be interpreted as an array index, `arr[np.array(seq)]`, which will result either in an error or a different result.\n",
      "  return np.add.reduce(sorted[indexer] * weights, axis=axis) / sumval\n"
     ]
    },
    {
     "data": {
      "image/png": "[encoded data removed]",
      "text/plain": [
       "<Figure size 432x288 with 1 Axes>"
      ]
     },
     "metadata": {
      "needs_background": "light"
     },
     "output_type": "display_data"
    }
   ],
   "source": [
    "sns.distplot(mydata['credit_amount'])\n",
    "pyplot.show()"
   ]
  },
  {
   "cell_type": "code",
   "execution_count": 17,
   "metadata": {},
   "outputs": [
    {
     "data": {
      "image/png": "[encoded data removed]",
      "text/plain": [
       "<Figure size 432x288 with 1 Axes>"
      ]
     },
     "metadata": {
      "needs_background": "light"
     },
     "output_type": "display_data"
    }
   ],
   "source": [
    "sns.boxplot(mydata['credit_amount'])\n",
    "pyplot.show()"
   ]
  },
  {
   "cell_type": "code",
   "execution_count": 18,
   "metadata": {
    "scrolled": true
   },
   "outputs": [
    {
     "data": {
      "text/plain": [
       "0.0      250.0\n",
       "0.1      934.7\n",
       "0.2     1262.0\n",
       "0.3     1479.4\n",
       "0.4     1906.8\n",
       "0.5     2319.5\n",
       "0.6     2852.4\n",
       "0.7     3590.0\n",
       "0.8     4720.0\n",
       "0.9     7179.4\n",
       "1.0    18424.0\n",
       "Name: credit_amount, dtype: float64"
      ]
     },
     "execution_count": 18,
     "metadata": {},
     "output_type": "execute_result"
    }
   ],
   "source": [
    "mydata['credit_amount'].quantile([0, 0.1, 0.2, 0.3, 0.4, 0.5, 0.6, 0.7, 0.8, 0.9, 1])"
   ]
  },
  {
   "cell_type": "code",
   "execution_count": 19,
   "metadata": {},
   "outputs": [
    {
     "data": {
      "text/plain": [
       "2319.5"
      ]
     },
     "execution_count": 19,
     "metadata": {},
     "output_type": "execute_result"
    }
   ],
   "source": [
    "mydata.credit_amount.median()"
   ]
  },
  {
   "cell_type": "code",
   "execution_count": 20,
   "metadata": {},
   "outputs": [],
   "source": [
    "mydata.loc[(mydata.credit_amount > 8471.96), 'credit_amount'] = 2319.5\n"
   ]
  },
  {
   "cell_type": "code",
   "execution_count": 21,
   "metadata": {},
   "outputs": [
    {
     "data": {
      "image/png": "[encoded data removed]",
      "text/plain": [
       "<Figure size 432x288 with 1 Axes>"
      ]
     },
     "metadata": {
      "needs_background": "light"
     },
     "output_type": "display_data"
    }
   ],
   "source": [
    "sns.boxplot(mydata['credit_amount'])\n",
    "pyplot.show()"
   ]
  },
  {
   "cell_type": "code",
   "execution_count": 22,
   "metadata": {},
   "outputs": [
    {
     "name": "stdout",
     "output_type": "stream",
     "text": [
      "[0.12670465 0.08057005 0.06263032 0.0597618  0.07168326 0.04998225\n",
      " 0.05999239 0.05348418 0.04075816 0.02755099 0.05025798 0.05501099\n",
      " 0.06641465 0.03237918 0.03299566 0.03364407 0.03905493 0.02136963\n",
      " 0.02893904 0.00681581]\n"
     ]
    },
    {
     "name": "stderr",
     "output_type": "stream",
     "text": [
      "/anaconda3/lib/python3.6/site-packages/sklearn/ensemble/forest.py:248: FutureWarning: The default value of n_estimators will change from 10 in version 0.20 to 100 in 0.22.\n",
      "  \"10 in version 0.20 to 100 in 0.22.\", FutureWarning)\n"
     ]
    }
   ],
   "source": [
    "#Order of attribute by importance based on cleaned data, outliers in age and credit amount trimmed\n",
    "from sklearn.ensemble import ExtraTreesClassifier\n",
    "np.random.seed(0)\n",
    "array = mydata.values\n",
    "X1 = array[:,0:20]\n",
    "Y1 = array[:,20]\n",
    "\n",
    "model = ExtraTreesClassifier()\n",
    "model.fit(X1,Y1)\n",
    "print(model.feature_importances_)"
   ]
  },
  {
   "cell_type": "code",
   "execution_count": 23,
   "metadata": {},
   "outputs": [
    {
     "data": {
      "text/plain": [
       "Index(['account_balance', 'duration_of_credit_month',\n",
       "       'payment_status_of_previous_credit', 'purpose', 'credit_amount',\n",
       "       'value_savings/stocks', 'length_of_current_employment',\n",
       "       'instalment_per_cent', 'sex_&_marital_status', 'guarantors',\n",
       "       'duration_in_current_address', 'most_valuable_available_asset',\n",
       "       'age_years', 'concurrent_credits', 'type_of_apartment',\n",
       "       'no_of_credits_at_this_bank', 'occupation', 'no_of_dependents',\n",
       "       'telephone', 'foreign_worker'],\n",
       "      dtype='object')"
      ]
     },
     "execution_count": 23,
     "metadata": {},
     "output_type": "execute_result"
    }
   ],
   "source": [
    "mydata.columns[:20]"
   ]
  },
  {
   "cell_type": "markdown",
   "metadata": {},
   "source": [
    "'account_balance', 'duration_of_credit_month',\n",
    "'payment_status_of_previous_credit', 'purpose','credit_amount',\n",
    "'value_savings/stocks', 'length_of_current_employment', \n",
    "'instalment_per_cent', 'sex_&_marital_status','guarantors',\n",
    "'duration_in_current_address', 'most_valuable_available_asset',\n",
    "'age_years','concurrent_credits','type_of_apartment',\n",
    "'no_of_credits_at_this_bank', 'occupation','no_of_dependents',\n",
    "'telephone','foreign_worker', 'creditability'"
   ]
  },
  {
   "cell_type": "code",
   "execution_count": 24,
   "metadata": {},
   "outputs": [],
   "source": [
    "#Split dataset into train and test sets\n",
    "#features = mydata.values[:,:20]\n",
    "#targets = mydata.values[:,20]\n",
    "x = mydata.iloc[:, 0:20].values  \n",
    "y = mydata.iloc[:, 20].values  \n",
    "\n",
    "\n",
    "features_train, features_test, targets_train, targets_test = train_test_split(x, y, test_size = 0.33,\n",
    "                                                                             random_state = 10)"
   ]
  },
  {
   "cell_type": "code",
   "execution_count": 25,
   "metadata": {},
   "outputs": [
    {
     "name": "stdout",
     "output_type": "stream",
     "text": [
      "Accuracy Score: 0.7333333333333333\n",
      "Precision Score: 0.7602788697632407\n"
     ]
    }
   ],
   "source": [
    "#Naive Bayes classifier\n",
    "clf = GaussianNB()\n",
    "clf.fit(features_train, targets_train)\n",
    "target_pred = clf.predict(features_test)\n",
    "df_table = ConfusionMatrix(targets_test, target_pred)\n",
    "\n",
    "#print(\"Confusion matrix:\\n%s\" % df_table)\n",
    "print(\"Accuracy Score:\", accuracy_score(targets_test, target_pred, normalize = True))\n",
    "print(\"Precision Score:\", precision_score(targets_test, target_pred, average = 'weighted'))"
   ]
  },
  {
   "cell_type": "code",
   "execution_count": 26,
   "metadata": {},
   "outputs": [
    {
     "name": "stdout",
     "output_type": "stream",
     "text": [
      "Accuracy Score: 0.7333333333333333\n",
      "Precision Score: 0.7193641667949968\n"
     ]
    }
   ],
   "source": [
    "#Decision tree classification\n",
    "class_gini = DecisionTreeClassifier(criterion = \"gini\", random_state = 100, max_depth = 3, min_samples_leaf = 8)\n",
    "class_gini.fit(features_train, targets_train)\n",
    "y_pred = class_gini.predict(features_test)\n",
    "print( \"Accuracy Score:\" , accuracy_score(targets_test, y_pred, normalize = True))\n",
    "print( \"Precision Score:\" , precision_score(targets_test, y_pred, average = 'weighted'))"
   ]
  },
  {
   "cell_type": "code",
   "execution_count": 27,
   "metadata": {},
   "outputs": [
    {
     "name": "stdout",
     "output_type": "stream",
     "text": [
      "Accuracy Score: 0.7333333333333333\n",
      "Precision Score: 0.7161879056615899\n"
     ]
    }
   ],
   "source": [
    "#Random Forest Classifier\n",
    "rfm = RandomForestClassifier(n_estimators = 70, oob_score = True, n_jobs = -1 , random_state = 101, \n",
    "                            max_features = None, min_samples_leaf = 30)\n",
    "rfm.fit(features_train, targets_train)\n",
    "y_pred = rfm.predict(features_test)\n",
    "print(\"Accuracy Score:\" , accuracy_score(targets_test, y_pred, normalize = True))\n",
    "print(\"Precision Score:\", precision_score(targets_test, y_pred, average = 'weighted'))"
   ]
  },
  {
   "cell_type": "code",
   "execution_count": 28,
   "metadata": {},
   "outputs": [
    {
     "name": "stdout",
     "output_type": "stream",
     "text": [
      "[0.64444444 0.31851852 0.69402985 0.70676692 0.69172932]\n",
      "0.611097810862147\n"
     ]
    }
   ],
   "source": [
    "#x = mydata.iloc[:, 0:20].values  \n",
    "#y = mydata.iloc[:, 20].values  \n",
    "\n",
    "from sklearn.preprocessing import StandardScaler  \n",
    "feature_scaler = StandardScaler()  \n",
    "train_features = feature_scaler.fit_transform(features_train)  \n",
    "test_features = feature_scaler.transform(features_test)  \n",
    "\n",
    "#from sklearn.linear_model import LogisticRegression\n",
    "#classifier = LogisticRegression(random_state=0, solver='lbfgs',multi_class='multinomial')\n",
    "\n",
    "#from sklearn.ensemble import RandomForestClassifier  \n",
    "#classifier = RandomForestClassifier(n_estimators=300, random_state=0)  \n",
    "\n",
    "#from sklearn.tree import DecisionTreeClassifier\n",
    "#classifier = DecisionTreeClassifier(criterion = \"gini\", random_state = 100, max_depth = 3, min_samples_leaf = 8)\n",
    "\n",
    "from sklearn.naive_bayes import GaussianNB\n",
    "classifier = GaussianNB()\n",
    "\n",
    "from sklearn.model_selection import cross_val_score  \n",
    "all_accuracies = cross_val_score(estimator=classifier, X=train_features, y=targets_train, cv=5)  \n",
    "\n",
    "print(all_accuracies)  \n",
    "print(all_accuracies.mean())  "
   ]
  },
  {
   "cell_type": "code",
   "execution_count": 29,
   "metadata": {},
   "outputs": [
    {
     "name": "stdout",
     "output_type": "stream",
     "text": [
      "[0.71851852 0.76296296 0.73880597 0.76691729 0.73684211]\n",
      "0.7448093700253952\n"
     ]
    }
   ],
   "source": [
    "#Trimmed dataset using full dataset\n",
    "#RandomForestClassifier\n",
    "from sklearn.preprocessing import StandardScaler  \n",
    "feature_scaler = StandardScaler()  \n",
    "train_features = feature_scaler.fit_transform(features_train)  \n",
    "test_features = feature_scaler.transform(features_test)\n",
    "\n",
    "from sklearn.ensemble import RandomForestClassifier  \n",
    "classifier = RandomForestClassifier(n_estimators=300, random_state=0)\n",
    "\n",
    "from sklearn.model_selection import cross_val_score  \n",
    "RForest_5Fold = cross_val_score(estimator=classifier, X=train_features, y=targets_train, cv=5) \n",
    "\n",
    "print(RForest_5Fold)  \n",
    "print(RForest_5Fold.mean()) \n"
   ]
  },
  {
   "cell_type": "code",
   "execution_count": 30,
   "metadata": {},
   "outputs": [
    {
     "name": "stdout",
     "output_type": "stream",
     "text": [
      "[0.6962963  0.65925926 0.69402985 0.7518797  0.71428571]\n",
      "0.7031501639671317\n"
     ]
    }
   ],
   "source": [
    "#Trimmed dataset using full dataset\n",
    "#DecisionTreeClassifier\n",
    "from sklearn.preprocessing import StandardScaler  \n",
    "feature_scaler = StandardScaler()  \n",
    "train_features = feature_scaler.fit_transform(features_train)  \n",
    "test_features = feature_scaler.transform(features_test)\n",
    "\n",
    "from sklearn.tree import DecisionTreeClassifier\n",
    "classifier = DecisionTreeClassifier(criterion = \"gini\", random_state = 100, max_depth = 3, min_samples_leaf = 8)\n",
    "\n",
    "from sklearn.model_selection import cross_val_score  \n",
    "DTree_5Fold = cross_val_score(estimator=classifier, X=train_features, y=targets_train, cv=5) \n",
    "\n",
    "print(DTree_5Fold)  \n",
    "print(DTree_5Fold.mean()) \n",
    "\n"
   ]
  },
  {
   "cell_type": "code",
   "execution_count": 31,
   "metadata": {},
   "outputs": [
    {
     "name": "stdout",
     "output_type": "stream",
     "text": [
      "[0.64444444 0.31851852 0.69402985 0.70676692 0.69172932]\n",
      "0.611097810862147\n"
     ]
    }
   ],
   "source": [
    "#Trimmed dataset using full dataset\n",
    "#naive_bayes\n",
    "from sklearn.preprocessing import StandardScaler  \n",
    "feature_scaler = StandardScaler()  \n",
    "train_features = feature_scaler.fit_transform(features_train)  \n",
    "test_features = feature_scaler.transform(features_test)\n",
    "\n",
    "from sklearn.naive_bayes import GaussianNB\n",
    "classifier = GaussianNB()\n",
    "\n",
    "from sklearn.model_selection import cross_val_score  \n",
    "NBayes_5Fold = cross_val_score(estimator=classifier, X=train_features, y=targets_train, cv=5) \n",
    "\n",
    "print(NBayes_5Fold)  \n",
    "print(NBayes_5Fold.mean()) "
   ]
  },
  {
   "cell_type": "code",
   "execution_count": 32,
   "metadata": {},
   "outputs": [],
   "source": [
    "#Trimmed dataset using information gain to identify and dropping 3 lowest attribute\n",
    "mydata_new = mydata\n",
    "mydata_new.drop(['guarantors','no_of_dependents', 'foreign_worker'], axis=1, inplace=True)"
   ]
  },
  {
   "cell_type": "code",
   "execution_count": 33,
   "metadata": {},
   "outputs": [
    {
     "data": {
      "text/html": [
       "<div>\n",
       "<style scoped>\n",
       "    .dataframe tbody tr th:only-of-type {\n",
       "        vertical-align: middle;\n",
       "    }\n",
       "\n",
       "    .dataframe tbody tr th {\n",
       "        vertical-align: top;\n",
       "    }\n",
       "\n",
       "    .dataframe thead th {\n",
       "        text-align: right;\n",
       "    }\n",
       "</style>\n",
       "<table border=\"1\" class=\"dataframe\">\n",
       "  <thead>\n",
       "    <tr style=\"text-align: right;\">\n",
       "      <th></th>\n",
       "      <th>account_balance</th>\n",
       "      <th>duration_of_credit_month</th>\n",
       "      <th>payment_status_of_previous_credit</th>\n",
       "      <th>purpose</th>\n",
       "      <th>credit_amount</th>\n",
       "      <th>value_savings/stocks</th>\n",
       "      <th>length_of_current_employment</th>\n",
       "      <th>instalment_per_cent</th>\n",
       "      <th>sex_&amp;_marital_status</th>\n",
       "      <th>duration_in_current_address</th>\n",
       "      <th>most_valuable_available_asset</th>\n",
       "      <th>age_years</th>\n",
       "      <th>concurrent_credits</th>\n",
       "      <th>type_of_apartment</th>\n",
       "      <th>no_of_credits_at_this_bank</th>\n",
       "      <th>occupation</th>\n",
       "      <th>telephone</th>\n",
       "      <th>creditability</th>\n",
       "    </tr>\n",
       "  </thead>\n",
       "  <tbody>\n",
       "    <tr>\n",
       "      <th>0</th>\n",
       "      <td>1</td>\n",
       "      <td>18</td>\n",
       "      <td>4</td>\n",
       "      <td>2</td>\n",
       "      <td>1049.0</td>\n",
       "      <td>1</td>\n",
       "      <td>2</td>\n",
       "      <td>4</td>\n",
       "      <td>2</td>\n",
       "      <td>4</td>\n",
       "      <td>2</td>\n",
       "      <td>21.0</td>\n",
       "      <td>3</td>\n",
       "      <td>1</td>\n",
       "      <td>1</td>\n",
       "      <td>3</td>\n",
       "      <td>1</td>\n",
       "      <td>1</td>\n",
       "    </tr>\n",
       "    <tr>\n",
       "      <th>1</th>\n",
       "      <td>1</td>\n",
       "      <td>9</td>\n",
       "      <td>4</td>\n",
       "      <td>0</td>\n",
       "      <td>2799.0</td>\n",
       "      <td>1</td>\n",
       "      <td>3</td>\n",
       "      <td>2</td>\n",
       "      <td>3</td>\n",
       "      <td>2</td>\n",
       "      <td>1</td>\n",
       "      <td>36.0</td>\n",
       "      <td>3</td>\n",
       "      <td>1</td>\n",
       "      <td>2</td>\n",
       "      <td>3</td>\n",
       "      <td>1</td>\n",
       "      <td>1</td>\n",
       "    </tr>\n",
       "    <tr>\n",
       "      <th>2</th>\n",
       "      <td>2</td>\n",
       "      <td>12</td>\n",
       "      <td>2</td>\n",
       "      <td>9</td>\n",
       "      <td>841.0</td>\n",
       "      <td>2</td>\n",
       "      <td>4</td>\n",
       "      <td>2</td>\n",
       "      <td>2</td>\n",
       "      <td>4</td>\n",
       "      <td>1</td>\n",
       "      <td>23.0</td>\n",
       "      <td>3</td>\n",
       "      <td>1</td>\n",
       "      <td>1</td>\n",
       "      <td>2</td>\n",
       "      <td>1</td>\n",
       "      <td>1</td>\n",
       "    </tr>\n",
       "    <tr>\n",
       "      <th>3</th>\n",
       "      <td>1</td>\n",
       "      <td>12</td>\n",
       "      <td>4</td>\n",
       "      <td>0</td>\n",
       "      <td>2122.0</td>\n",
       "      <td>1</td>\n",
       "      <td>3</td>\n",
       "      <td>3</td>\n",
       "      <td>3</td>\n",
       "      <td>2</td>\n",
       "      <td>1</td>\n",
       "      <td>39.0</td>\n",
       "      <td>3</td>\n",
       "      <td>1</td>\n",
       "      <td>2</td>\n",
       "      <td>2</td>\n",
       "      <td>1</td>\n",
       "      <td>1</td>\n",
       "    </tr>\n",
       "    <tr>\n",
       "      <th>4</th>\n",
       "      <td>1</td>\n",
       "      <td>12</td>\n",
       "      <td>4</td>\n",
       "      <td>0</td>\n",
       "      <td>2171.0</td>\n",
       "      <td>1</td>\n",
       "      <td>3</td>\n",
       "      <td>4</td>\n",
       "      <td>3</td>\n",
       "      <td>4</td>\n",
       "      <td>2</td>\n",
       "      <td>38.0</td>\n",
       "      <td>1</td>\n",
       "      <td>2</td>\n",
       "      <td>2</td>\n",
       "      <td>2</td>\n",
       "      <td>1</td>\n",
       "      <td>1</td>\n",
       "    </tr>\n",
       "  </tbody>\n",
       "</table>\n",
       "</div>"
      ],
      "text/plain": [
       "   account_balance  duration_of_credit_month  \\\n",
       "0                1                        18   \n",
       "1                1                         9   \n",
       "2                2                        12   \n",
       "3                1                        12   \n",
       "4                1                        12   \n",
       "\n",
       "   payment_status_of_previous_credit  purpose  credit_amount  \\\n",
       "0                                  4        2         1049.0   \n",
       "1                                  4        0         2799.0   \n",
       "2                                  2        9          841.0   \n",
       "3                                  4        0         2122.0   \n",
       "4                                  4        0         2171.0   \n",
       "\n",
       "   value_savings/stocks  length_of_current_employment  instalment_per_cent  \\\n",
       "0                     1                             2                    4   \n",
       "1                     1                             3                    2   \n",
       "2                     2                             4                    2   \n",
       "3                     1                             3                    3   \n",
       "4                     1                             3                    4   \n",
       "\n",
       "   sex_&_marital_status  duration_in_current_address  \\\n",
       "0                     2                            4   \n",
       "1                     3                            2   \n",
       "2                     2                            4   \n",
       "3                     3                            2   \n",
       "4                     3                            4   \n",
       "\n",
       "   most_valuable_available_asset  age_years  concurrent_credits  \\\n",
       "0                              2       21.0                   3   \n",
       "1                              1       36.0                   3   \n",
       "2                              1       23.0                   3   \n",
       "3                              1       39.0                   3   \n",
       "4                              2       38.0                   1   \n",
       "\n",
       "   type_of_apartment  no_of_credits_at_this_bank  occupation  telephone  \\\n",
       "0                  1                           1           3          1   \n",
       "1                  1                           2           3          1   \n",
       "2                  1                           1           2          1   \n",
       "3                  1                           2           2          1   \n",
       "4                  2                           2           2          1   \n",
       "\n",
       "   creditability  \n",
       "0              1  \n",
       "1              1  \n",
       "2              1  \n",
       "3              1  \n",
       "4              1  "
      ]
     },
     "execution_count": 33,
     "metadata": {},
     "output_type": "execute_result"
    }
   ],
   "source": [
    "mydata_new.head(5)"
   ]
  },
  {
   "cell_type": "code",
   "execution_count": 34,
   "metadata": {},
   "outputs": [
    {
     "name": "stdout",
     "output_type": "stream",
     "text": [
      "<class 'pandas.core.frame.DataFrame'>\n",
      "RangeIndex: 1000 entries, 0 to 999\n",
      "Data columns (total 18 columns):\n",
      "account_balance                      1000 non-null int64\n",
      "duration_of_credit_month             1000 non-null int64\n",
      "payment_status_of_previous_credit    1000 non-null int64\n",
      "purpose                              1000 non-null int64\n",
      "credit_amount                        1000 non-null float64\n",
      "value_savings/stocks                 1000 non-null int64\n",
      "length_of_current_employment         1000 non-null int64\n",
      "instalment_per_cent                  1000 non-null int64\n",
      "sex_&_marital_status                 1000 non-null int64\n",
      "duration_in_current_address          1000 non-null int64\n",
      "most_valuable_available_asset        1000 non-null int64\n",
      "age_years                            1000 non-null float64\n",
      "concurrent_credits                   1000 non-null int64\n",
      "type_of_apartment                    1000 non-null int64\n",
      "no_of_credits_at_this_bank           1000 non-null int64\n",
      "occupation                           1000 non-null int64\n",
      "telephone                            1000 non-null int64\n",
      "creditability                        1000 non-null int64\n",
      "dtypes: float64(2), int64(16)\n",
      "memory usage: 140.7 KB\n"
     ]
    }
   ],
   "source": [
    "mydata_new.info()"
   ]
  },
  {
   "cell_type": "code",
   "execution_count": 35,
   "metadata": {},
   "outputs": [
    {
     "data": {
      "text/html": [
       "<div>\n",
       "<style scoped>\n",
       "    .dataframe tbody tr th:only-of-type {\n",
       "        vertical-align: middle;\n",
       "    }\n",
       "\n",
       "    .dataframe tbody tr th {\n",
       "        vertical-align: top;\n",
       "    }\n",
       "\n",
       "    .dataframe thead th {\n",
       "        text-align: right;\n",
       "    }\n",
       "</style>\n",
       "<table border=\"1\" class=\"dataframe\">\n",
       "  <thead>\n",
       "    <tr style=\"text-align: right;\">\n",
       "      <th></th>\n",
       "      <th>account_balance</th>\n",
       "      <th>duration_of_credit_month</th>\n",
       "      <th>payment_status_of_previous_credit</th>\n",
       "      <th>purpose</th>\n",
       "      <th>credit_amount</th>\n",
       "      <th>value_savings/stocks</th>\n",
       "      <th>length_of_current_employment</th>\n",
       "      <th>instalment_per_cent</th>\n",
       "      <th>sex_&amp;_marital_status</th>\n",
       "      <th>duration_in_current_address</th>\n",
       "      <th>most_valuable_available_asset</th>\n",
       "      <th>age_years</th>\n",
       "      <th>concurrent_credits</th>\n",
       "      <th>type_of_apartment</th>\n",
       "      <th>no_of_credits_at_this_bank</th>\n",
       "      <th>occupation</th>\n",
       "      <th>telephone</th>\n",
       "      <th>creditability</th>\n",
       "    </tr>\n",
       "  </thead>\n",
       "  <tbody>\n",
       "    <tr>\n",
       "      <th>count</th>\n",
       "      <td>1000.000000</td>\n",
       "      <td>1000.000000</td>\n",
       "      <td>1000.00000</td>\n",
       "      <td>1000.000000</td>\n",
       "      <td>1000.000000</td>\n",
       "      <td>1000.000000</td>\n",
       "      <td>1000.000000</td>\n",
       "      <td>1000.000000</td>\n",
       "      <td>1000.00000</td>\n",
       "      <td>1000.000000</td>\n",
       "      <td>1000.000000</td>\n",
       "      <td>1000.000000</td>\n",
       "      <td>1000.000000</td>\n",
       "      <td>1000.000000</td>\n",
       "      <td>1000.000000</td>\n",
       "      <td>1000.000000</td>\n",
       "      <td>1000.000000</td>\n",
       "      <td>1000.000000</td>\n",
       "    </tr>\n",
       "    <tr>\n",
       "      <th>mean</th>\n",
       "      <td>2.577000</td>\n",
       "      <td>20.903000</td>\n",
       "      <td>2.54500</td>\n",
       "      <td>2.828000</td>\n",
       "      <td>2721.129000</td>\n",
       "      <td>2.105000</td>\n",
       "      <td>3.384000</td>\n",
       "      <td>2.973000</td>\n",
       "      <td>2.68200</td>\n",
       "      <td>2.845000</td>\n",
       "      <td>2.358000</td>\n",
       "      <td>35.257000</td>\n",
       "      <td>2.675000</td>\n",
       "      <td>1.928000</td>\n",
       "      <td>1.407000</td>\n",
       "      <td>2.904000</td>\n",
       "      <td>1.404000</td>\n",
       "      <td>0.700000</td>\n",
       "    </tr>\n",
       "    <tr>\n",
       "      <th>std</th>\n",
       "      <td>1.257638</td>\n",
       "      <td>12.058814</td>\n",
       "      <td>1.08312</td>\n",
       "      <td>2.744439</td>\n",
       "      <td>1828.478378</td>\n",
       "      <td>1.580023</td>\n",
       "      <td>1.208306</td>\n",
       "      <td>1.118715</td>\n",
       "      <td>0.70808</td>\n",
       "      <td>1.103718</td>\n",
       "      <td>1.050209</td>\n",
       "      <td>10.891261</td>\n",
       "      <td>0.705601</td>\n",
       "      <td>0.530186</td>\n",
       "      <td>0.577654</td>\n",
       "      <td>0.653614</td>\n",
       "      <td>0.490943</td>\n",
       "      <td>0.458487</td>\n",
       "    </tr>\n",
       "    <tr>\n",
       "      <th>min</th>\n",
       "      <td>1.000000</td>\n",
       "      <td>4.000000</td>\n",
       "      <td>0.00000</td>\n",
       "      <td>0.000000</td>\n",
       "      <td>250.000000</td>\n",
       "      <td>1.000000</td>\n",
       "      <td>1.000000</td>\n",
       "      <td>1.000000</td>\n",
       "      <td>1.00000</td>\n",
       "      <td>1.000000</td>\n",
       "      <td>1.000000</td>\n",
       "      <td>19.000000</td>\n",
       "      <td>1.000000</td>\n",
       "      <td>1.000000</td>\n",
       "      <td>1.000000</td>\n",
       "      <td>1.000000</td>\n",
       "      <td>1.000000</td>\n",
       "      <td>0.000000</td>\n",
       "    </tr>\n",
       "    <tr>\n",
       "      <th>25%</th>\n",
       "      <td>1.000000</td>\n",
       "      <td>12.000000</td>\n",
       "      <td>2.00000</td>\n",
       "      <td>1.000000</td>\n",
       "      <td>1365.500000</td>\n",
       "      <td>1.000000</td>\n",
       "      <td>3.000000</td>\n",
       "      <td>2.000000</td>\n",
       "      <td>2.00000</td>\n",
       "      <td>2.000000</td>\n",
       "      <td>1.000000</td>\n",
       "      <td>27.000000</td>\n",
       "      <td>3.000000</td>\n",
       "      <td>2.000000</td>\n",
       "      <td>1.000000</td>\n",
       "      <td>3.000000</td>\n",
       "      <td>1.000000</td>\n",
       "      <td>0.000000</td>\n",
       "    </tr>\n",
       "    <tr>\n",
       "      <th>50%</th>\n",
       "      <td>2.000000</td>\n",
       "      <td>18.000000</td>\n",
       "      <td>2.00000</td>\n",
       "      <td>2.000000</td>\n",
       "      <td>2319.250000</td>\n",
       "      <td>1.000000</td>\n",
       "      <td>3.000000</td>\n",
       "      <td>3.000000</td>\n",
       "      <td>3.00000</td>\n",
       "      <td>3.000000</td>\n",
       "      <td>2.000000</td>\n",
       "      <td>33.000000</td>\n",
       "      <td>3.000000</td>\n",
       "      <td>2.000000</td>\n",
       "      <td>1.000000</td>\n",
       "      <td>3.000000</td>\n",
       "      <td>1.000000</td>\n",
       "      <td>1.000000</td>\n",
       "    </tr>\n",
       "    <tr>\n",
       "      <th>75%</th>\n",
       "      <td>4.000000</td>\n",
       "      <td>24.000000</td>\n",
       "      <td>4.00000</td>\n",
       "      <td>3.000000</td>\n",
       "      <td>3529.000000</td>\n",
       "      <td>3.000000</td>\n",
       "      <td>5.000000</td>\n",
       "      <td>4.000000</td>\n",
       "      <td>3.00000</td>\n",
       "      <td>4.000000</td>\n",
       "      <td>3.000000</td>\n",
       "      <td>41.000000</td>\n",
       "      <td>3.000000</td>\n",
       "      <td>2.000000</td>\n",
       "      <td>2.000000</td>\n",
       "      <td>3.000000</td>\n",
       "      <td>2.000000</td>\n",
       "      <td>1.000000</td>\n",
       "    </tr>\n",
       "    <tr>\n",
       "      <th>max</th>\n",
       "      <td>4.000000</td>\n",
       "      <td>72.000000</td>\n",
       "      <td>4.00000</td>\n",
       "      <td>10.000000</td>\n",
       "      <td>8471.000000</td>\n",
       "      <td>5.000000</td>\n",
       "      <td>5.000000</td>\n",
       "      <td>4.000000</td>\n",
       "      <td>4.00000</td>\n",
       "      <td>4.000000</td>\n",
       "      <td>4.000000</td>\n",
       "      <td>68.000000</td>\n",
       "      <td>3.000000</td>\n",
       "      <td>3.000000</td>\n",
       "      <td>4.000000</td>\n",
       "      <td>4.000000</td>\n",
       "      <td>2.000000</td>\n",
       "      <td>1.000000</td>\n",
       "    </tr>\n",
       "  </tbody>\n",
       "</table>\n",
       "</div>"
      ],
      "text/plain": [
       "       account_balance  duration_of_credit_month  \\\n",
       "count      1000.000000               1000.000000   \n",
       "mean          2.577000                 20.903000   \n",
       "std           1.257638                 12.058814   \n",
       "min           1.000000                  4.000000   \n",
       "25%           1.000000                 12.000000   \n",
       "50%           2.000000                 18.000000   \n",
       "75%           4.000000                 24.000000   \n",
       "max           4.000000                 72.000000   \n",
       "\n",
       "       payment_status_of_previous_credit      purpose  credit_amount  \\\n",
       "count                         1000.00000  1000.000000    1000.000000   \n",
       "mean                             2.54500     2.828000    2721.129000   \n",
       "std                              1.08312     2.744439    1828.478378   \n",
       "min                              0.00000     0.000000     250.000000   \n",
       "25%                              2.00000     1.000000    1365.500000   \n",
       "50%                              2.00000     2.000000    2319.250000   \n",
       "75%                              4.00000     3.000000    3529.000000   \n",
       "max                              4.00000    10.000000    8471.000000   \n",
       "\n",
       "       value_savings/stocks  length_of_current_employment  \\\n",
       "count           1000.000000                   1000.000000   \n",
       "mean               2.105000                      3.384000   \n",
       "std                1.580023                      1.208306   \n",
       "min                1.000000                      1.000000   \n",
       "25%                1.000000                      3.000000   \n",
       "50%                1.000000                      3.000000   \n",
       "75%                3.000000                      5.000000   \n",
       "max                5.000000                      5.000000   \n",
       "\n",
       "       instalment_per_cent  sex_&_marital_status  duration_in_current_address  \\\n",
       "count          1000.000000            1000.00000                  1000.000000   \n",
       "mean              2.973000               2.68200                     2.845000   \n",
       "std               1.118715               0.70808                     1.103718   \n",
       "min               1.000000               1.00000                     1.000000   \n",
       "25%               2.000000               2.00000                     2.000000   \n",
       "50%               3.000000               3.00000                     3.000000   \n",
       "75%               4.000000               3.00000                     4.000000   \n",
       "max               4.000000               4.00000                     4.000000   \n",
       "\n",
       "       most_valuable_available_asset    age_years  concurrent_credits  \\\n",
       "count                    1000.000000  1000.000000         1000.000000   \n",
       "mean                        2.358000    35.257000            2.675000   \n",
       "std                         1.050209    10.891261            0.705601   \n",
       "min                         1.000000    19.000000            1.000000   \n",
       "25%                         1.000000    27.000000            3.000000   \n",
       "50%                         2.000000    33.000000            3.000000   \n",
       "75%                         3.000000    41.000000            3.000000   \n",
       "max                         4.000000    68.000000            3.000000   \n",
       "\n",
       "       type_of_apartment  no_of_credits_at_this_bank   occupation  \\\n",
       "count        1000.000000                 1000.000000  1000.000000   \n",
       "mean            1.928000                    1.407000     2.904000   \n",
       "std             0.530186                    0.577654     0.653614   \n",
       "min             1.000000                    1.000000     1.000000   \n",
       "25%             2.000000                    1.000000     3.000000   \n",
       "50%             2.000000                    1.000000     3.000000   \n",
       "75%             2.000000                    2.000000     3.000000   \n",
       "max             3.000000                    4.000000     4.000000   \n",
       "\n",
       "         telephone  creditability  \n",
       "count  1000.000000    1000.000000  \n",
       "mean      1.404000       0.700000  \n",
       "std       0.490943       0.458487  \n",
       "min       1.000000       0.000000  \n",
       "25%       1.000000       0.000000  \n",
       "50%       1.000000       1.000000  \n",
       "75%       2.000000       1.000000  \n",
       "max       2.000000       1.000000  "
      ]
     },
     "execution_count": 35,
     "metadata": {},
     "output_type": "execute_result"
    }
   ],
   "source": [
    "mydata_new.describe()"
   ]
  },
  {
   "cell_type": "code",
   "execution_count": 36,
   "metadata": {},
   "outputs": [],
   "source": [
    "#Split dataset into train and test sets\n",
    "features = mydata_new.values[:,:17]\n",
    "targets = mydata_new.values[:,17]\n",
    "features_train, features_test, targets_train, targets_test = train_test_split(features, targets, test_size = 0.33,\n",
    "                                                                             random_state = 10)"
   ]
  },
  {
   "cell_type": "code",
   "execution_count": 37,
   "metadata": {},
   "outputs": [
    {
     "name": "stdout",
     "output_type": "stream",
     "text": [
      "Accuracy Score: 0.7272727272727273\n",
      "Precision Score: 0.720632210219797\n"
     ]
    }
   ],
   "source": [
    "#Naive Bayes classifier\n",
    "clf = GaussianNB()\n",
    "clf.fit(features_train, targets_train)\n",
    "target_pred = clf.predict(features_test)\n",
    "df_table = ConfusionMatrix(targets_test, target_pred)\n",
    "\n",
    "#print(\"Confusion matrix:\\n%s\" % df_table)\n",
    "print(\"Accuracy Score:\", accuracy_score(targets_test, target_pred, normalize = True))\n",
    "print(\"Precision Score:\", precision_score(targets_test, target_pred, average = 'weighted'))"
   ]
  },
  {
   "cell_type": "code",
   "execution_count": 38,
   "metadata": {},
   "outputs": [
    {
     "name": "stdout",
     "output_type": "stream",
     "text": [
      "Accuracy Score: 0.7333333333333333\n",
      "Precision Score: 0.7193641667949968\n"
     ]
    }
   ],
   "source": [
    "#Decision tree classification\n",
    "class_gini = DecisionTreeClassifier(criterion = \"gini\", random_state = 100, max_depth = 3, min_samples_leaf = 8)\n",
    "class_gini.fit(features_train, targets_train)\n",
    "y_pred1 = class_gini.predict(features_test)\n",
    "print( \"Accuracy Score:\" , accuracy_score(targets_test, y_pred1, normalize = True))\n",
    "print( \"Precision Score:\" , precision_score(targets_test, y_pred1, average = 'weighted'))"
   ]
  },
  {
   "cell_type": "code",
   "execution_count": 39,
   "metadata": {},
   "outputs": [
    {
     "name": "stdout",
     "output_type": "stream",
     "text": [
      "Accuracy Score: 0.7333333333333333\n",
      "Precision Score: 0.7161879056615899\n"
     ]
    }
   ],
   "source": [
    "#Random Forest Classifier\n",
    "rfm = RandomForestClassifier(n_estimators = 70, oob_score = True, n_jobs = -1 , random_state = 101, \n",
    "                            max_features = None, min_samples_leaf = 30)\n",
    "rfm.fit(features_train, targets_train)\n",
    "y_pred2 = rfm.predict(features_test)\n",
    "print(\"Accuracy Score:\" , accuracy_score(targets_test, y_pred2, normalize = True))\n",
    "print(\"Precision Score:\", precision_score(targets_test, y_pred2, average = 'weighted'))"
   ]
  },
  {
   "cell_type": "code",
   "execution_count": 40,
   "metadata": {},
   "outputs": [
    {
     "name": "stdout",
     "output_type": "stream",
     "text": [
      "[0.7037037  0.76296296 0.76119403 0.77443609 0.7593985 ]\n",
      "0.7523390565967157\n"
     ]
    }
   ],
   "source": [
    "#Trimmed dataset using information gain to identify and dropping 3 lowest attribute\n",
    "#RandomForestClassifier - 5 fold cross validation\n",
    "from sklearn.preprocessing import StandardScaler  \n",
    "feature_scaler = StandardScaler()  \n",
    "train_features = feature_scaler.fit_transform(features_train)  \n",
    "test_features = feature_scaler.transform(features_test)\n",
    "\n",
    "from sklearn.ensemble import RandomForestClassifier  \n",
    "classifier = RandomForestClassifier(n_estimators=300, random_state=0)\n",
    "\n",
    "from sklearn.model_selection import cross_val_score  \n",
    "RandForest_5Fold = cross_val_score(estimator=classifier, X=train_features, y=targets_train, cv=5) \n",
    "\n",
    "print(RandForest_5Fold)  \n",
    "print(RandForest_5Fold.mean()) \n",
    "\n"
   ]
  },
  {
   "cell_type": "code",
   "execution_count": 41,
   "metadata": {},
   "outputs": [
    {
     "name": "stdout",
     "output_type": "stream",
     "text": [
      "[0.6962963  0.65925926 0.7238806  0.7518797  0.71428571]\n",
      "0.7091203132208632\n"
     ]
    }
   ],
   "source": [
    "#Trimmed dataset using information gain to identify and dropping 3 lowest attribute\n",
    "#DecisionTreeClassifier - 5 fold cross validation\n",
    "from sklearn.preprocessing import StandardScaler  \n",
    "feature_scaler = StandardScaler()  \n",
    "train_features = feature_scaler.fit_transform(features_train)  \n",
    "test_features = feature_scaler.transform(features_test)\n",
    "\n",
    "from sklearn.tree import DecisionTreeClassifier\n",
    "classifier = DecisionTreeClassifier(criterion = \"gini\", random_state = 100, max_depth = 3, min_samples_leaf = 8)\n",
    "\n",
    "from sklearn.model_selection import cross_val_score  \n",
    "DecTree_5Fold = cross_val_score(estimator=classifier, X=train_features, y=targets_train, cv=5) \n",
    "\n",
    "print(DecTree_5Fold)  \n",
    "print(DecTree_5Fold.mean()) \n",
    "\n",
    "\n"
   ]
  },
  {
   "cell_type": "code",
   "execution_count": 42,
   "metadata": {},
   "outputs": [
    {
     "name": "stdout",
     "output_type": "stream",
     "text": [
      "[0.71851852 0.74074074 0.76119403 0.72932331 0.7443609 ]\n",
      "0.7388274999272642\n"
     ]
    }
   ],
   "source": [
    "#Trimmed dataset using information gain to identify and dropping 3 lowest attribute\n",
    "#naive_bayes - 5 fold cross validation\n",
    "from sklearn.preprocessing import StandardScaler  \n",
    "feature_scaler = StandardScaler()  \n",
    "train_features = feature_scaler.fit_transform(features_train)  \n",
    "test_features = feature_scaler.transform(features_test)\n",
    "\n",
    "from sklearn.naive_bayes import GaussianNB\n",
    "classifier = GaussianNB()\n",
    "\n",
    "from sklearn.model_selection import cross_val_score  \n",
    "NaiveB_5Fold = cross_val_score(estimator=classifier, X=train_features, y=targets_train, cv=5) \n",
    "\n",
    "print(NaiveB_5Fold)  \n",
    "print(NaiveB_5Fold.mean()) "
   ]
  },
  {
   "cell_type": "code",
   "execution_count": 43,
   "metadata": {},
   "outputs": [
    {
     "name": "stdout",
     "output_type": "stream",
     "text": [
      "[0.67647059 0.72058824 0.79411765 0.7761194  0.73134328 0.7761194\n",
      " 0.79104478 0.72727273 0.74242424 0.78787879]\n",
      "0.7523379093835635\n"
     ]
    }
   ],
   "source": [
    "#Trimmed dataset using information gain to identify and dropping 3 lowest attribute\n",
    "#RandomForestClassifier - 10 fold cross validation\n",
    "from sklearn.preprocessing import StandardScaler  \n",
    "feature_scaler = StandardScaler()  \n",
    "train_features = feature_scaler.fit_transform(features_train)  \n",
    "test_features = feature_scaler.transform(features_test)\n",
    "\n",
    "from sklearn.ensemble import RandomForestClassifier  \n",
    "classifier = RandomForestClassifier(n_estimators=300, random_state=0)\n",
    "\n",
    "from sklearn.model_selection import cross_val_score  \n",
    "RandFor_10Fold = cross_val_score(estimator=classifier, X=train_features, y=targets_train, cv=10) \n",
    "\n",
    "print(RandFor_10Fold)  \n",
    "print(RandFor_10Fold.mean()) "
   ]
  },
  {
   "cell_type": "code",
   "execution_count": 44,
   "metadata": {},
   "outputs": [
    {
     "name": "stdout",
     "output_type": "stream",
     "text": [
      "[0.75       0.63235294 0.79411765 0.70149254 0.70149254 0.7761194\n",
      " 0.68656716 0.77272727 0.6969697  0.68181818]\n",
      "0.719365738154149\n"
     ]
    }
   ],
   "source": [
    "#Trimmed dataset using information gain to identify and dropping 3 lowest attribute\n",
    "#DecisionTreeClassifier - 10 fold cross validation\n",
    "from sklearn.preprocessing import StandardScaler  \n",
    "feature_scaler = StandardScaler()  \n",
    "train_features = feature_scaler.fit_transform(features_train)  \n",
    "test_features = feature_scaler.transform(features_test)\n",
    "\n",
    "from sklearn.tree import DecisionTreeClassifier\n",
    "classifier = DecisionTreeClassifier(criterion = \"gini\", random_state = 100, max_depth = 3, min_samples_leaf = 8)\n",
    "\n",
    "from sklearn.model_selection import cross_val_score  \n",
    "DecTree_10Fold = cross_val_score(estimator=classifier, X=train_features, y=targets_train, cv=10) \n",
    "\n",
    "print(DecTree_10Fold)  \n",
    "print(DecTree_10Fold.mean()) "
   ]
  },
  {
   "cell_type": "code",
   "execution_count": 45,
   "metadata": {},
   "outputs": [
    {
     "name": "stdout",
     "output_type": "stream",
     "text": [
      "[0.69117647 0.72058824 0.80882353 0.70149254 0.73134328 0.82089552\n",
      " 0.70149254 0.74242424 0.72727273 0.74242424]\n",
      "0.7387933328012345\n"
     ]
    }
   ],
   "source": [
    "#Trimmed dataset using information gain to identify and dropping 3 lowest attribute\n",
    "#naive_bayes - 10 fold cross validation\n",
    "from sklearn.preprocessing import StandardScaler  \n",
    "feature_scaler = StandardScaler()  \n",
    "train_features = feature_scaler.fit_transform(features_train)  \n",
    "test_features = feature_scaler.transform(features_test)\n",
    "\n",
    "from sklearn.naive_bayes import GaussianNB\n",
    "classifier = GaussianNB()\n",
    "\n",
    "from sklearn.model_selection import cross_val_score  \n",
    "NaiveB_10Fold = cross_val_score(estimator=classifier, X=train_features, y=targets_train, cv=10) \n",
    "\n",
    "print(NaiveB_10Fold)  \n",
    "print(NaiveB_10Fold.mean()) "
   ]
  },
  {
   "cell_type": "code",
   "execution_count": 50,
   "metadata": {},
   "outputs": [
    {
     "name": "stdout",
     "output_type": "stream",
     "text": [
      "Random Forest Accuracy Score: 0.7333333333333333\n",
      "Decision Tree Accuracy Score: 0.7333333333333333\n",
      "Naive Bayes Accuracy Score: 0.7272727272727273\n"
     ]
    }
   ],
   "source": [
    "#Simple Data Split Accuracy Scores\n",
    "print( \"Random Forest Accuracy Score:\" , accuracy_score(targets_test, y_pred2, normalize = True))\n",
    "print( \"Decision Tree Accuracy Score:\" , accuracy_score(targets_test, y_pred1, normalize = True))\n",
    "print(\"Naive Bayes Accuracy Score:\", accuracy_score(targets_test, target_pred, normalize = True))"
   ]
  },
  {
   "cell_type": "code",
   "execution_count": 48,
   "metadata": {},
   "outputs": [
    {
     "name": "stdout",
     "output_type": "stream",
     "text": [
      "Random Forest 5Fold: 0.7448093700253952\n",
      "Decision Tree 5Fold: 0.7031501639671317\n",
      "Naive Bayes 5Fold: 0.611097810862147\n"
     ]
    }
   ],
   "source": [
    "#N Fold Cross Validatation Data Split Accuracy scores without trimmed data\n",
    "print(\"Random Forest 5Fold:\" , RForest_5Fold.mean()) \n",
    "print(\"Decision Tree 5Fold:\", DTree_5Fold.mean()) \n",
    "print(\"Naive Bayes 5Fold:\",NBayes_5Fold.mean())"
   ]
  },
  {
   "cell_type": "code",
   "execution_count": 49,
   "metadata": {},
   "outputs": [
    {
     "name": "stdout",
     "output_type": "stream",
     "text": [
      "Random Forest 5Fold: 0.7523390565967157\n",
      "Random Forest 10Fold: 0.7523379093835635\n",
      "Decision Tree 5Fold: 0.7091203132208632\n",
      "Decision Tree 10Fold: 0.719365738154149\n",
      "Naive Bayes 5Fold: 0.7388274999272642\n",
      "Naive Bayes 10Fold: 0.7387933328012345\n"
     ]
    }
   ],
   "source": [
    "#N Fold Cross Validatation Data Split Accuracy scores with trimmed data\n",
    "print(\"Random Forest 5Fold:\" , RandForest_5Fold.mean()) \n",
    "print(\"Random Forest 10Fold:\" ,RandFor_10Fold.mean()) \n",
    "print(\"Decision Tree 5Fold:\", DecTree_5Fold.mean()) \n",
    "print(\"Decision Tree 10Fold:\",DecTree_10Fold.mean()) \n",
    "print(\"Naive Bayes 5Fold:\",NaiveB_5Fold.mean()) \n",
    "print(\"Naive Bayes 10Fold:\", NaiveB_10Fold.mean()) "
   ]
  }
 ],
 "metadata": {
  "kernelspec": {
   "display_name": "Python 3",
   "language": "python",
   "name": "python3"
  },
  "language_info": {
   "codemirror_mode": {
    "name": "ipython",
    "version": 3
   },
   "file_extension": ".py",
   "mimetype": "text/x-python",
   "name": "python",
   "nbconvert_exporter": "python",
   "pygments_lexer": "ipython3",
   "version": "3.6.6"
  }
 },
 "nbformat": 4,
 "nbformat_minor": 2
}
